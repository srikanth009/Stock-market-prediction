{
 "cells": [
  {
   "cell_type": "markdown",
   "metadata": {},
   "source": [
    "\n"
   ]
  },
  {
   "cell_type": "markdown",
   "metadata": {},
   "source": [
    "## A Seperate Handbook is provided with detailed discription of the Code"
   ]
  },
  {
   "cell_type": "markdown",
   "metadata": {},
   "source": [
    "#### The following line is one time code for installing pandas_datareader"
   ]
  },
  {
   "cell_type": "markdown",
   "metadata": {},
   "source": [
    "### Import the Necessary Libraries"
   ]
  },
  {
   "cell_type": "code",
   "execution_count": 1,
   "metadata": {},
   "outputs": [],
   "source": [
    "import pandas_datareader as web\n",
    "import math\n",
    "import pandas as pd\n",
    "import numpy as np\n",
    "from sklearn.preprocessing import MinMaxScaler\n",
    "import matplotlib.pyplot as plt\n",
    "import seaborn as sns\n",
    "\n",
    "sns.set()\n",
    "from datetime import date\n"
   ]
  },
  {
   "cell_type": "markdown",
   "metadata": {},
   "source": [
    "### Import data using pandas_datareader. Select data range of your choice"
   ]
  },
  {
   "cell_type": "code",
   "execution_count": 2,
   "metadata": {},
   "outputs": [],
   "source": [
    "df=web.DataReader('GOOGL',data_source='yahoo',start='2012-01-01',end='2020-10-18')"
   ]
  },
  {
   "cell_type": "markdown",
   "metadata": {},
   "source": [
    "## Basic EDA"
   ]
  },
  {
   "cell_type": "code",
   "execution_count": 3,
   "metadata": {},
   "outputs": [
    {
     "data": {
      "text/html": [
       "<div>\n",
       "<style scoped>\n",
       "    .dataframe tbody tr th:only-of-type {\n",
       "        vertical-align: middle;\n",
       "    }\n",
       "\n",
       "    .dataframe tbody tr th {\n",
       "        vertical-align: top;\n",
       "    }\n",
       "\n",
       "    .dataframe thead th {\n",
       "        text-align: right;\n",
       "    }\n",
       "</style>\n",
       "<table border=\"1\" class=\"dataframe\">\n",
       "  <thead>\n",
       "    <tr style=\"text-align: right;\">\n",
       "      <th></th>\n",
       "      <th>High</th>\n",
       "      <th>Low</th>\n",
       "      <th>Open</th>\n",
       "      <th>Close</th>\n",
       "      <th>Volume</th>\n",
       "      <th>Adj Close</th>\n",
       "    </tr>\n",
       "    <tr>\n",
       "      <th>Date</th>\n",
       "      <th></th>\n",
       "      <th></th>\n",
       "      <th></th>\n",
       "      <th></th>\n",
       "      <th></th>\n",
       "      <th></th>\n",
       "    </tr>\n",
       "  </thead>\n",
       "  <tbody>\n",
       "    <tr>\n",
       "      <th>2012-01-03</th>\n",
       "      <td>334.409424</td>\n",
       "      <td>326.511505</td>\n",
       "      <td>326.796783</td>\n",
       "      <td>333.038025</td>\n",
       "      <td>7345647.0</td>\n",
       "      <td>333.038025</td>\n",
       "    </tr>\n",
       "    <tr>\n",
       "      <th>2012-01-04</th>\n",
       "      <td>335.460449</td>\n",
       "      <td>330.640656</td>\n",
       "      <td>332.847839</td>\n",
       "      <td>334.474487</td>\n",
       "      <td>5722272.0</td>\n",
       "      <td>334.474487</td>\n",
       "    </tr>\n",
       "    <tr>\n",
       "      <th>2012-01-05</th>\n",
       "      <td>332.317322</td>\n",
       "      <td>328.443451</td>\n",
       "      <td>331.396393</td>\n",
       "      <td>329.834839</td>\n",
       "      <td>6559234.0</td>\n",
       "      <td>329.834839</td>\n",
       "    </tr>\n",
       "    <tr>\n",
       "      <th>2012-01-06</th>\n",
       "      <td>330.330322</td>\n",
       "      <td>325.220215</td>\n",
       "      <td>329.904907</td>\n",
       "      <td>325.335327</td>\n",
       "      <td>5380414.0</td>\n",
       "      <td>325.335327</td>\n",
       "    </tr>\n",
       "    <tr>\n",
       "      <th>2012-01-09</th>\n",
       "      <td>323.823822</td>\n",
       "      <td>310.925934</td>\n",
       "      <td>323.573578</td>\n",
       "      <td>311.541534</td>\n",
       "      <td>11633555.0</td>\n",
       "      <td>311.541534</td>\n",
       "    </tr>\n",
       "  </tbody>\n",
       "</table>\n",
       "</div>"
      ],
      "text/plain": [
       "                  High         Low        Open       Close      Volume  \\\n",
       "Date                                                                     \n",
       "2012-01-03  334.409424  326.511505  326.796783  333.038025   7345647.0   \n",
       "2012-01-04  335.460449  330.640656  332.847839  334.474487   5722272.0   \n",
       "2012-01-05  332.317322  328.443451  331.396393  329.834839   6559234.0   \n",
       "2012-01-06  330.330322  325.220215  329.904907  325.335327   5380414.0   \n",
       "2012-01-09  323.823822  310.925934  323.573578  311.541534  11633555.0   \n",
       "\n",
       "             Adj Close  \n",
       "Date                    \n",
       "2012-01-03  333.038025  \n",
       "2012-01-04  334.474487  \n",
       "2012-01-05  329.834839  \n",
       "2012-01-06  325.335327  \n",
       "2012-01-09  311.541534  "
      ]
     },
     "execution_count": 3,
     "metadata": {},
     "output_type": "execute_result"
    }
   ],
   "source": [
    "df.head()"
   ]
  },
  {
   "cell_type": "code",
   "execution_count": 4,
   "metadata": {},
   "outputs": [
    {
     "data": {
      "text/plain": [
       "(2213, 6)"
      ]
     },
     "execution_count": 4,
     "metadata": {},
     "output_type": "execute_result"
    }
   ],
   "source": [
    "df.shape"
   ]
  },
  {
   "cell_type": "code",
   "execution_count": 5,
   "metadata": {},
   "outputs": [
    {
     "name": "stderr",
     "output_type": "stream",
     "text": [
      "/home/god/anaconda3/lib/python3.7/site-packages/pandas/plotting/_matplotlib/converter.py:103: FutureWarning: Using an implicitly registered datetime converter for a matplotlib plotting method. The converter was registered by pandas on import. Future versions of pandas will require you to explicitly register matplotlib converters.\n",
      "\n",
      "To register the converters:\n",
      "\t>>> from pandas.plotting import register_matplotlib_converters\n",
      "\t>>> register_matplotlib_converters()\n",
      "  warnings.warn(msg, FutureWarning)\n"
     ]
    },
    {
     "data": {
      "image/png": "[encoded data removed]",
      "text/plain": [
       "<Figure size 1080x360 with 1 Axes>"
      ]
     },
     "metadata": {},
     "output_type": "display_data"
    }
   ],
   "source": [
    "plt.figure(figsize=(15,5))\n",
    "plt.plot(df.Close)\n",
    "plt.title(\"Stock Price\")\n",
    "plt.xlabel(\"Date\")\n",
    "plt.ylabel(\"Close Price in US $\");\n"
   ]
  },
  {
   "cell_type": "markdown",
   "metadata": {},
   "source": [
    "## Seperate out the Close Column as we will be working on the Closing Values"
   ]
  },
  {
   "cell_type": "code",
   "execution_count": 6,
   "metadata": {},
   "outputs": [],
   "source": [
    "close=df.filter(['Close'])"
   ]
  },
  {
   "cell_type": "code",
   "execution_count": 7,
   "metadata": {},
   "outputs": [
    {
     "data": {
      "text/html": [
       "<div>\n",
       "<style scoped>\n",
       "    .dataframe tbody tr th:only-of-type {\n",
       "        vertical-align: middle;\n",
       "    }\n",
       "\n",
       "    .dataframe tbody tr th {\n",
       "        vertical-align: top;\n",
       "    }\n",
       "\n",
       "    .dataframe thead th {\n",
       "        text-align: right;\n",
       "    }\n",
       "</style>\n",
       "<table border=\"1\" class=\"dataframe\">\n",
       "  <thead>\n",
       "    <tr style=\"text-align: right;\">\n",
       "      <th></th>\n",
       "      <th>Close</th>\n",
       "    </tr>\n",
       "    <tr>\n",
       "      <th>Date</th>\n",
       "      <th></th>\n",
       "    </tr>\n",
       "  </thead>\n",
       "  <tbody>\n",
       "    <tr>\n",
       "      <th>2012-01-03</th>\n",
       "      <td>333.038025</td>\n",
       "    </tr>\n",
       "    <tr>\n",
       "      <th>2012-01-04</th>\n",
       "      <td>334.474487</td>\n",
       "    </tr>\n",
       "    <tr>\n",
       "      <th>2012-01-05</th>\n",
       "      <td>329.834839</td>\n",
       "    </tr>\n",
       "    <tr>\n",
       "      <th>2012-01-06</th>\n",
       "      <td>325.335327</td>\n",
       "    </tr>\n",
       "    <tr>\n",
       "      <th>2012-01-09</th>\n",
       "      <td>311.541534</td>\n",
       "    </tr>\n",
       "  </tbody>\n",
       "</table>\n",
       "</div>"
      ],
      "text/plain": [
       "                 Close\n",
       "Date                  \n",
       "2012-01-03  333.038025\n",
       "2012-01-04  334.474487\n",
       "2012-01-05  329.834839\n",
       "2012-01-06  325.335327\n",
       "2012-01-09  311.541534"
      ]
     },
     "execution_count": 7,
     "metadata": {},
     "output_type": "execute_result"
    }
   ],
   "source": [
    "close.head()"
   ]
  },
  {
   "cell_type": "code",
   "execution_count": 8,
   "metadata": {},
   "outputs": [],
   "source": [
    "# change the Values to Numpy Array\n",
    "close_stock=close.values"
   ]
  },
  {
   "cell_type": "code",
   "execution_count": 9,
   "metadata": {},
   "outputs": [
    {
     "data": {
      "text/plain": [
       "numpy.ndarray"
      ]
     },
     "execution_count": 9,
     "metadata": {},
     "output_type": "execute_result"
    }
   ],
   "source": [
    "type(close_stock)"
   ]
  },
  {
   "cell_type": "markdown",
   "metadata": {},
   "source": [
    "## Prepare & Scale  the Training Data"
   ]
  },
  {
   "cell_type": "code",
   "execution_count": 10,
   "metadata": {},
   "outputs": [],
   "source": [
    "training_data_length=math.ceil(len(close_stock)*0.8)"
   ]
  },
  {
   "cell_type": "code",
   "execution_count": 11,
   "metadata": {},
   "outputs": [
    {
     "data": {
      "text/plain": [
       "1771"
      ]
     },
     "execution_count": 11,
     "metadata": {},
     "output_type": "execute_result"
    }
   ],
   "source": [
    "training_data_length"
   ]
  },
  {
   "cell_type": "code",
   "execution_count": 12,
   "metadata": {},
   "outputs": [],
   "source": [
    "mms=MinMaxScaler(feature_range=(0, 1))"
   ]
  },
  {
   "cell_type": "code",
   "execution_count": 13,
   "metadata": {},
   "outputs": [],
   "source": [
    "scaled_close_stock=mms.fit_transform(close_stock)"
   ]
  },
  {
   "cell_type": "code",
   "execution_count": 14,
   "metadata": {},
   "outputs": [
    {
     "data": {
      "text/plain": [
       "array([[0.03702961],\n",
       "       [0.03802883],\n",
       "       [0.03480144],\n",
       "       ...,\n",
       "       [0.89291064],\n",
       "       [0.88736665],\n",
       "       [0.89587395]])"
      ]
     },
     "execution_count": 14,
     "metadata": {},
     "output_type": "execute_result"
    }
   ],
   "source": [
    "scaled_close_stock"
   ]
  },
  {
   "cell_type": "code",
   "execution_count": 15,
   "metadata": {},
   "outputs": [],
   "source": [
    "training_data=scaled_close_stock[0:training_data_length,:]"
   ]
  },
  {
   "cell_type": "code",
   "execution_count": 16,
   "metadata": {},
   "outputs": [
    {
     "data": {
      "text/plain": [
       "1771"
      ]
     },
     "execution_count": 16,
     "metadata": {},
     "output_type": "execute_result"
    }
   ],
   "source": [
    "len(training_data)"
   ]
  },
  {
   "cell_type": "code",
   "execution_count": 17,
   "metadata": {},
   "outputs": [
    {
     "data": {
      "text/plain": [
       "array([[0.03702961],\n",
       "       [0.03802883],\n",
       "       [0.03480144],\n",
       "       ...,\n",
       "       [0.53680658],\n",
       "       [0.56115296],\n",
       "       [0.5632398 ]])"
      ]
     },
     "execution_count": 17,
     "metadata": {},
     "output_type": "execute_result"
    }
   ],
   "source": [
    "training_data"
   ]
  },
  {
   "cell_type": "markdown",
   "metadata": {},
   "source": [
    "### Make X_train & y_train"
   ]
  },
  {
   "cell_type": "code",
   "execution_count": 18,
   "metadata": {},
   "outputs": [],
   "source": [
    "X_train=[]\n",
    "y_train=[]"
   ]
  },
  {
   "cell_type": "code",
   "execution_count": 19,
   "metadata": {},
   "outputs": [],
   "source": [
    "for i in range(60 ,len(training_data)):\n",
    "    X_train.append(training_data[i-60:i,0])\n",
    "    y_train.append(training_data[i,0])"
   ]
  },
  {
   "cell_type": "code",
   "execution_count": 20,
   "metadata": {},
   "outputs": [
    {
     "data": {
      "text/plain": [
       "list"
      ]
     },
     "execution_count": 20,
     "metadata": {},
     "output_type": "execute_result"
    }
   ],
   "source": [
    "type(X_train)"
   ]
  },
  {
   "cell_type": "markdown",
   "metadata": {},
   "source": [
    "### Change X_train and y_train to NumPy arrays"
   ]
  },
  {
   "cell_type": "code",
   "execution_count": 21,
   "metadata": {},
   "outputs": [],
   "source": [
    "X_train,y_train=np.array(X_train),np.array(y_train)"
   ]
  },
  {
   "cell_type": "code",
   "execution_count": 22,
   "metadata": {},
   "outputs": [
    {
     "name": "stdout",
     "output_type": "stream",
     "text": [
      "<class 'numpy.ndarray'>\n",
      "<class 'numpy.ndarray'>\n"
     ]
    }
   ],
   "source": [
    "print(type(X_train))\n",
    "print(type(y_train))\n"
   ]
  },
  {
   "cell_type": "code",
   "execution_count": 23,
   "metadata": {},
   "outputs": [
    {
     "name": "stdout",
     "output_type": "stream",
     "text": [
      "2\n",
      "(1711, 60)\n"
     ]
    }
   ],
   "source": [
    "print(X_train.ndim)\n",
    "print(X_train.shape)"
   ]
  },
  {
   "cell_type": "code",
   "execution_count": 24,
   "metadata": {},
   "outputs": [
    {
     "data": {
      "text/plain": [
       "60"
      ]
     },
     "execution_count": 24,
     "metadata": {},
     "output_type": "execute_result"
    }
   ],
   "source": [
    "X_train.shape[1]"
   ]
  },
  {
   "cell_type": "markdown",
   "metadata": {},
   "source": [
    "### RNN needs data in 3 dimensions , number of Samples, Number of Time Steps and Number of Features So wee need to reshape the data"
   ]
  },
  {
   "cell_type": "code",
   "execution_count": 25,
   "metadata": {},
   "outputs": [],
   "source": [
    "X_train=np.reshape(X_train,(X_train.shape[0],X_train.shape[1],1))"
   ]
  },
  {
   "cell_type": "markdown",
   "metadata": {},
   "source": [
    "# Make the LSTM Architecture"
   ]
  },
  {
   "cell_type": "code",
   "execution_count": 26,
   "metadata": {},
   "outputs": [],
   "source": [
    "import tensorflow\n"
   ]
  },
  {
   "cell_type": "code",
   "execution_count": 27,
   "metadata": {},
   "outputs": [],
   "source": [
    "from tensorflow.keras.models import Sequential\n",
    "from tensorflow.keras.layers import Dense\n",
    "from tensorflow.keras.layers import LSTM"
   ]
  },
  {
   "cell_type": "code",
   "execution_count": 28,
   "metadata": {},
   "outputs": [],
   "source": [
    "model = Sequential()"
   ]
  },
  {
   "cell_type": "code",
   "execution_count": 29,
   "metadata": {},
   "outputs": [
    {
     "data": {
      "text/plain": [
       "(1711, 60, 1)"
      ]
     },
     "execution_count": 29,
     "metadata": {},
     "output_type": "execute_result"
    }
   ],
   "source": [
    "X_train.shape\n"
   ]
  },
  {
   "cell_type": "markdown",
   "metadata": {},
   "source": [
    "### input_shape = number of time steps and number of features. In this case number of features is 1"
   ]
  },
  {
   "cell_type": "code",
   "execution_count": 30,
   "metadata": {},
   "outputs": [
    {
     "name": "stdout",
     "output_type": "stream",
     "text": [
      "WARNING:tensorflow:From /home/god/anaconda3/lib/python3.7/site-packages/tensorflow_core/python/ops/resource_variable_ops.py:1630: calling BaseResourceVariable.__init__ (from tensorflow.python.ops.resource_variable_ops) with constraint is deprecated and will be removed in a future version.\n",
      "Instructions for updating:\n",
      "If using Keras pass *_constraint arguments to layers.\n"
     ]
    }
   ],
   "source": [
    "model.add(LSTM(units = 50, return_sequences = True, input_shape = (X_train.shape[1], 1)))"
   ]
  },
  {
   "cell_type": "code",
   "execution_count": 31,
   "metadata": {},
   "outputs": [],
   "source": [
    "model.add(LSTM(units = 50, return_sequences = True))\n",
    "model.add(LSTM(units = 50, return_sequences = True))\n",
    "model.add(LSTM(units = 50, return_sequences = True))\n",
    "model.add(LSTM(units = 50, return_sequences = True))\n",
    "model.add(LSTM(units = 50, return_sequences = True))\n",
    "\n",
    "\n",
    "\n",
    "model.add(LSTM(units = 50))\n"
   ]
  },
  {
   "cell_type": "code",
   "execution_count": 32,
   "metadata": {},
   "outputs": [],
   "source": [
    "# Adding the output layer\n",
    "model.add(Dense(units = 1))"
   ]
  },
  {
   "cell_type": "code",
   "execution_count": 33,
   "metadata": {},
   "outputs": [],
   "source": [
    "# Compiling the RNN\n",
    "model.compile(optimizer = 'adam', loss = 'mean_squared_error')"
   ]
  },
  {
   "cell_type": "code",
   "execution_count": 34,
   "metadata": {},
   "outputs": [
    {
     "name": "stdout",
     "output_type": "stream",
     "text": [
      "WARNING:tensorflow:From /home/god/anaconda3/lib/python3.7/site-packages/tensorflow_core/python/ops/math_grad.py:1424: where (from tensorflow.python.ops.array_ops) is deprecated and will be removed in a future version.\n",
      "Instructions for updating:\n",
      "Use tf.where in 2.0, which has the same broadcast rule as np.where\n",
      "Train on 1711 samples\n",
      "Epoch 1/50\n",
      "1711/1711 [==============================] - 12s 7ms/sample - loss: 0.0141\n",
      "Epoch 2/50\n",
      "1711/1711 [==============================] - 10s 6ms/sample - loss: 9.0992e-04\n",
      "Epoch 3/50\n",
      "1711/1711 [==============================] - 10s 6ms/sample - loss: 8.4503e-04\n",
      "Epoch 4/50\n",
      "1711/1711 [==============================] - 10s 6ms/sample - loss: 8.3108e-04\n",
      "Epoch 5/50\n",
      "1711/1711 [==============================] - 13s 8ms/sample - loss: 7.7214e-04\n",
      "Epoch 6/50\n",
      "1711/1711 [==============================] - 12s 7ms/sample - loss: 7.7675e-04\n",
      "Epoch 7/50\n",
      "1711/1711 [==============================] - 12s 7ms/sample - loss: 7.9052e-04\n",
      "Epoch 8/50\n",
      "1711/1711 [==============================] - 12s 7ms/sample - loss: 6.9745e-04\n",
      "Epoch 9/50\n",
      "1711/1711 [==============================] - 11s 6ms/sample - loss: 7.0860e-04\n",
      "Epoch 10/50\n",
      "1711/1711 [==============================] - 11s 6ms/sample - loss: 8.3569e-04\n",
      "Epoch 11/50\n",
      "1711/1711 [==============================] - 11s 6ms/sample - loss: 7.2730e-04\n",
      "Epoch 12/50\n",
      "1711/1711 [==============================] - 10s 6ms/sample - loss: 5.9692e-04\n",
      "Epoch 13/50\n",
      "1711/1711 [==============================] - 11s 6ms/sample - loss: 5.6950e-04\n",
      "Epoch 14/50\n",
      "1711/1711 [==============================] - 11s 7ms/sample - loss: 7.1700e-04\n",
      "Epoch 15/50\n",
      "1711/1711 [==============================] - 12s 7ms/sample - loss: 5.8899e-04\n",
      "Epoch 16/50\n",
      "1711/1711 [==============================] - 12s 7ms/sample - loss: 5.4057e-04\n",
      "Epoch 17/50\n",
      "1711/1711 [==============================] - 12s 7ms/sample - loss: 6.1549e-04\n",
      "Epoch 18/50\n",
      "1711/1711 [==============================] - 11s 7ms/sample - loss: 5.5827e-04\n",
      "Epoch 19/50\n",
      "1711/1711 [==============================] - 11s 6ms/sample - loss: 5.0574e-04\n",
      "Epoch 20/50\n",
      "1711/1711 [==============================] - 11s 6ms/sample - loss: 5.1290e-04\n",
      "Epoch 21/50\n",
      "1711/1711 [==============================] - 11s 6ms/sample - loss: 6.3110e-04\n",
      "Epoch 22/50\n",
      "1711/1711 [==============================] - 11s 6ms/sample - loss: 4.7222e-04\n",
      "Epoch 23/50\n",
      "1711/1711 [==============================] - 11s 6ms/sample - loss: 4.7681e-04\n",
      "Epoch 24/50\n",
      "1711/1711 [==============================] - 11s 6ms/sample - loss: 4.4943e-04\n",
      "Epoch 25/50\n",
      "1711/1711 [==============================] - 11s 6ms/sample - loss: 5.7240e-04\n",
      "Epoch 26/50\n",
      "1711/1711 [==============================] - 11s 6ms/sample - loss: 5.9202e-04\n",
      "Epoch 27/50\n",
      "1711/1711 [==============================] - 11s 6ms/sample - loss: 4.4383e-04\n",
      "Epoch 28/50\n",
      "1711/1711 [==============================] - 11s 6ms/sample - loss: 4.5535e-04\n",
      "Epoch 29/50\n",
      "1711/1711 [==============================] - 11s 6ms/sample - loss: 3.7881e-04\n",
      "Epoch 30/50\n",
      "1711/1711 [==============================] - 12s 7ms/sample - loss: 4.5141e-04\n",
      "Epoch 31/50\n",
      "1711/1711 [==============================] - 12s 7ms/sample - loss: 4.8060e-04\n",
      "Epoch 32/50\n",
      "1711/1711 [==============================] - 11s 6ms/sample - loss: 3.4914e-04\n",
      "Epoch 33/50\n",
      "1711/1711 [==============================] - 11s 6ms/sample - loss: 3.3108e-04\n",
      "Epoch 34/50\n",
      "1711/1711 [==============================] - 11s 7ms/sample - loss: 3.6681e-04\n",
      "Epoch 35/50\n",
      "1711/1711 [==============================] - 11s 7ms/sample - loss: 3.2171e-04\n",
      "Epoch 36/50\n",
      "1711/1711 [==============================] - 11s 7ms/sample - loss: 2.5978e-04\n",
      "Epoch 37/50\n",
      "1711/1711 [==============================] - 11s 7ms/sample - loss: 2.8518e-04\n",
      "Epoch 38/50\n",
      "1711/1711 [==============================] - 12s 7ms/sample - loss: 2.9002e-04\n",
      "Epoch 39/50\n",
      "1711/1711 [==============================] - 12s 7ms/sample - loss: 1.9938e-04\n",
      "Epoch 40/50\n",
      "1711/1711 [==============================] - 11s 7ms/sample - loss: 1.8089e-04\n",
      "Epoch 41/50\n",
      "1711/1711 [==============================] - 11s 7ms/sample - loss: 1.9825e-04\n",
      "Epoch 42/50\n",
      "1711/1711 [==============================] - 11s 6ms/sample - loss: 1.5368e-04\n",
      "Epoch 43/50\n",
      "1711/1711 [==============================] - 11s 7ms/sample - loss: 2.5622e-04\n",
      "Epoch 44/50\n",
      "1711/1711 [==============================] - 12s 7ms/sample - loss: 1.6007e-04\n",
      "Epoch 45/50\n",
      "1711/1711 [==============================] - 11s 7ms/sample - loss: 1.4700e-04\n",
      "Epoch 46/50\n",
      "1711/1711 [==============================] - 11s 7ms/sample - loss: 1.5149e-04\n",
      "Epoch 47/50\n",
      "1711/1711 [==============================] - 11s 6ms/sample - loss: 1.7051e-04\n",
      "Epoch 48/50\n",
      "1711/1711 [==============================] - 12s 7ms/sample - loss: 2.1753e-04\n",
      "Epoch 49/50\n",
      "1711/1711 [==============================] - 11s 7ms/sample - loss: 1.3716e-04\n",
      "Epoch 50/50\n",
      "1711/1711 [==============================] - 11s 6ms/sample - loss: 1.6982e-04\n"
     ]
    },
    {
     "data": {
      "text/plain": [
       "<tensorflow.python.keras.callbacks.History at 0x7f38d2f27e90>"
      ]
     },
     "execution_count": 34,
     "metadata": {},
     "output_type": "execute_result"
    }
   ],
   "source": [
    "# Fitting the RNN to the Training set\n",
    "model.fit(X_train, y_train, epochs = 50, batch_size = 32)\n"
   ]
  },
  {
   "cell_type": "markdown",
   "metadata": {},
   "source": [
    "## Prepare & reshape the Test Data"
   ]
  },
  {
   "cell_type": "code",
   "execution_count": 35,
   "metadata": {},
   "outputs": [],
   "source": [
    "test_data=scaled_close_stock[training_data_length-60:,:]\n"
   ]
  },
  {
   "cell_type": "code",
   "execution_count": 36,
   "metadata": {},
   "outputs": [
    {
     "data": {
      "text/plain": [
       "1771"
      ]
     },
     "execution_count": 36,
     "metadata": {},
     "output_type": "execute_result"
    }
   ],
   "source": [
    "training_data_length"
   ]
  },
  {
   "cell_type": "code",
   "execution_count": 37,
   "metadata": {},
   "outputs": [
    {
     "data": {
      "text/plain": [
       "502"
      ]
     },
     "execution_count": 37,
     "metadata": {},
     "output_type": "execute_result"
    }
   ],
   "source": [
    "len(test_data)"
   ]
  },
  {
   "cell_type": "code",
   "execution_count": 38,
   "metadata": {},
   "outputs": [],
   "source": [
    "X_test=[]\n",
    "y_test=close_stock[training_data_length:,:]"
   ]
  },
  {
   "cell_type": "code",
   "execution_count": 39,
   "metadata": {},
   "outputs": [],
   "source": [
    "for i in range(60,len(test_data)):\n",
    "    X_test.append(test_data[i-60:i,0])"
   ]
  },
  {
   "cell_type": "code",
   "execution_count": 40,
   "metadata": {},
   "outputs": [
    {
     "data": {
      "text/plain": [
       "442"
      ]
     },
     "execution_count": 40,
     "metadata": {},
     "output_type": "execute_result"
    }
   ],
   "source": [
    "len(X_test)"
   ]
  },
  {
   "cell_type": "code",
   "execution_count": 41,
   "metadata": {},
   "outputs": [],
   "source": [
    "X_test=np.array(X_test)"
   ]
  },
  {
   "cell_type": "code",
   "execution_count": 42,
   "metadata": {},
   "outputs": [
    {
     "data": {
      "text/plain": [
       "(442, 60)"
      ]
     },
     "execution_count": 42,
     "metadata": {},
     "output_type": "execute_result"
    }
   ],
   "source": [
    "X_test.shape"
   ]
  },
  {
   "cell_type": "code",
   "execution_count": 43,
   "metadata": {},
   "outputs": [],
   "source": [
    "X_test=np.reshape(X_test,(X_test.shape[0],X_test.shape[1],1))"
   ]
  },
  {
   "cell_type": "markdown",
   "metadata": {},
   "source": [
    "# Make Predictions"
   ]
  },
  {
   "cell_type": "code",
   "execution_count": 93,
   "metadata": {},
   "outputs": [],
   "source": [
    "y_pred=model.predict(X_test)\n"
   ]
  },
  {
   "cell_type": "code",
   "execution_count": 94,
   "metadata": {},
   "outputs": [
    {
     "data": {
      "text/plain": [
       "array([[0.53974307],\n",
       "       [0.5463393 ],\n",
       "       [0.55095834],\n",
       "       [0.5367593 ],\n",
       "       [0.5355548 ],\n",
       "       [0.5353097 ],\n",
       "       [0.5448537 ],\n",
       "       [0.5363745 ],\n",
       "       [0.52931625],\n",
       "       [0.5415311 ],\n",
       "       [0.55952024],\n",
       "       [0.55951035],\n",
       "       [0.56967837],\n",
       "       [0.5755949 ],\n",
       "       [0.55947614],\n",
       "       [0.54776657],\n",
       "       [0.544706  ],\n",
       "       [0.54556936],\n",
       "       [0.56096536],\n",
       "       [0.564592  ],\n",
       "       [0.56562567],\n",
       "       [0.5596074 ],\n",
       "       [0.5626081 ],\n",
       "       [0.559423  ],\n",
       "       [0.5502694 ],\n",
       "       [0.5562493 ],\n",
       "       [0.55768424],\n",
       "       [0.5611608 ],\n",
       "       [0.56184244],\n",
       "       [0.5639021 ],\n",
       "       [0.5762548 ],\n",
       "       [0.58014685],\n",
       "       [0.58932513],\n",
       "       [0.58591557],\n",
       "       [0.57717437],\n",
       "       [0.57617915],\n",
       "       [0.5944412 ],\n",
       "       [0.6064923 ],\n",
       "       [0.6079906 ],\n",
       "       [0.6031084 ],\n",
       "       [0.60169226],\n",
       "       [0.6008707 ],\n",
       "       [0.61088   ],\n",
       "       [0.62659657],\n",
       "       [0.63189775],\n",
       "       [0.6110735 ],\n",
       "       [0.6072959 ],\n",
       "       [0.60290384],\n",
       "       [0.5969366 ],\n",
       "       [0.5949624 ],\n",
       "       [0.5994086 ],\n",
       "       [0.61469126],\n",
       "       [0.6176741 ],\n",
       "       [0.62061876],\n",
       "       [0.62493306],\n",
       "       [0.61780995],\n",
       "       [0.6162376 ],\n",
       "       [0.61217463],\n",
       "       [0.61601996],\n",
       "       [0.61789787],\n",
       "       [0.627491  ],\n",
       "       [0.6285098 ],\n",
       "       [0.6322933 ],\n",
       "       [0.6370547 ],\n",
       "       [0.6367836 ],\n",
       "       [0.64577866],\n",
       "       [0.65547055],\n",
       "       [0.6445008 ],\n",
       "       [0.6531342 ],\n",
       "       [0.65806156],\n",
       "       [0.6713185 ],\n",
       "       [0.5909714 ],\n",
       "       [0.6005556 ],\n",
       "       [0.59393686],\n",
       "       [0.61540383],\n",
       "       [0.61399794],\n",
       "       [0.6051538 ],\n",
       "       [0.6002298 ],\n",
       "       [0.59832203],\n",
       "       [0.59757185],\n",
       "       [0.5763717 ],\n",
       "       [0.5707702 ],\n",
       "       [0.5987988 ],\n",
       "       [0.6056503 ],\n",
       "       [0.59492713],\n",
       "       [0.5780675 ],\n",
       "       [0.5839097 ],\n",
       "       [0.58350664],\n",
       "       [0.5772432 ],\n",
       "       [0.57279515],\n",
       "       [0.57312596],\n",
       "       [0.56131977],\n",
       "       [0.56218064],\n",
       "       [0.5530436 ],\n",
       "       [0.51545906],\n",
       "       [0.52068895],\n",
       "       [0.5158328 ],\n",
       "       [0.5181567 ],\n",
       "       [0.5281228 ],\n",
       "       [0.5375691 ],\n",
       "       [0.5376382 ],\n",
       "       [0.5340494 ],\n",
       "       [0.53689575],\n",
       "       [0.5343302 ],\n",
       "       [0.5365554 ],\n",
       "       [0.5422635 ],\n",
       "       [0.5431164 ],\n",
       "       [0.54742444],\n",
       "       [0.55448806],\n",
       "       [0.5512981 ],\n",
       "       [0.5354252 ],\n",
       "       [0.529569  ],\n",
       "       [0.5277512 ],\n",
       "       [0.5322426 ],\n",
       "       [0.54308987],\n",
       "       [0.5525509 ],\n",
       "       [0.5594641 ],\n",
       "       [0.5647023 ],\n",
       "       [0.55582374],\n",
       "       [0.5578735 ],\n",
       "       [0.5670185 ],\n",
       "       [0.5704413 ],\n",
       "       [0.57189226],\n",
       "       [0.57488215],\n",
       "       [0.5771239 ],\n",
       "       [0.57351005],\n",
       "       [0.5741799 ],\n",
       "       [0.56538826],\n",
       "       [0.5705106 ],\n",
       "       [0.5763621 ],\n",
       "       [0.57261205],\n",
       "       [0.5704123 ],\n",
       "       [0.63607466],\n",
       "       [0.6349936 ],\n",
       "       [0.62487304],\n",
       "       [0.6147282 ],\n",
       "       [0.61158234],\n",
       "       [0.60210127],\n",
       "       [0.5766709 ],\n",
       "       [0.59329236],\n",
       "       [0.59617347],\n",
       "       [0.6189472 ],\n",
       "       [0.605061  ],\n",
       "       [0.59739816],\n",
       "       [0.6120096 ],\n",
       "       [0.58861   ],\n",
       "       [0.59510285],\n",
       "       [0.5999478 ],\n",
       "       [0.6146338 ],\n",
       "       [0.60145825],\n",
       "       [0.6080772 ],\n",
       "       [0.60618144],\n",
       "       [0.58153844],\n",
       "       [0.5958332 ],\n",
       "       [0.5940581 ],\n",
       "       [0.59769654],\n",
       "       [0.61033416],\n",
       "       [0.60681415],\n",
       "       [0.59296334],\n",
       "       [0.6019064 ],\n",
       "       [0.6204809 ],\n",
       "       [0.61485696],\n",
       "       [0.6143371 ],\n",
       "       [0.6135601 ],\n",
       "       [0.6236014 ],\n",
       "       [0.63223743],\n",
       "       [0.634223  ],\n",
       "       [0.6272972 ],\n",
       "       [0.62733275],\n",
       "       [0.62948424],\n",
       "       [0.63407   ],\n",
       "       [0.6267535 ],\n",
       "       [0.63276154],\n",
       "       [0.6193382 ],\n",
       "       [0.6442316 ],\n",
       "       [0.63483864],\n",
       "       [0.625786  ],\n",
       "       [0.62406445],\n",
       "       [0.61390734],\n",
       "       [0.5967805 ],\n",
       "       [0.6097463 ],\n",
       "       [0.6227864 ],\n",
       "       [0.6191049 ],\n",
       "       [0.60650367],\n",
       "       [0.61676127],\n",
       "       [0.61907816],\n",
       "       [0.62293   ],\n",
       "       [0.62257916],\n",
       "       [0.6394288 ],\n",
       "       [0.635344  ],\n",
       "       [0.64299285],\n",
       "       [0.6336227 ],\n",
       "       [0.6362093 ],\n",
       "       [0.63297075],\n",
       "       [0.6468064 ],\n",
       "       [0.6438025 ],\n",
       "       [0.64897406],\n",
       "       [0.66556275],\n",
       "       [0.63815325],\n",
       "       [0.64796215],\n",
       "       [0.6431035 ],\n",
       "       [0.65632206],\n",
       "       [0.6646498 ],\n",
       "       [0.6626551 ],\n",
       "       [0.66236675],\n",
       "       [0.6741621 ],\n",
       "       [0.66941524],\n",
       "       [0.6631296 ],\n",
       "       [0.6648571 ],\n",
       "       [0.663844  ],\n",
       "       [0.6742409 ],\n",
       "       [0.6868593 ],\n",
       "       [0.66961163],\n",
       "       [0.67220396],\n",
       "       [0.66383106],\n",
       "       [0.6671983 ],\n",
       "       [0.6614185 ],\n",
       "       [0.6737025 ],\n",
       "       [0.6733005 ],\n",
       "       [0.6723549 ],\n",
       "       [0.6664763 ],\n",
       "       [0.65835416],\n",
       "       [0.66738474],\n",
       "       [0.68125933],\n",
       "       [0.67935646],\n",
       "       [0.6870858 ],\n",
       "       [0.68498504],\n",
       "       [0.68505067],\n",
       "       [0.68540645],\n",
       "       [0.6879677 ],\n",
       "       [0.6851297 ],\n",
       "       [0.6965635 ],\n",
       "       [0.6857408 ],\n",
       "       [0.68926114],\n",
       "       [0.6911175 ],\n",
       "       [0.68624747],\n",
       "       [0.6885897 ],\n",
       "       [0.6831124 ],\n",
       "       [0.69989043],\n",
       "       [0.6843719 ],\n",
       "       [0.6816661 ],\n",
       "       [0.6842874 ],\n",
       "       [0.70535725],\n",
       "       [0.6870202 ],\n",
       "       [0.72310334],\n",
       "       [0.6995568 ],\n",
       "       [0.7187043 ],\n",
       "       [0.7185821 ],\n",
       "       [0.7238875 ],\n",
       "       [0.72809404],\n",
       "       [0.7180983 ],\n",
       "       [0.7317513 ],\n",
       "       [0.7324872 ],\n",
       "       [0.75286204],\n",
       "       [0.7401213 ],\n",
       "       [0.74885654],\n",
       "       [0.7461221 ],\n",
       "       [0.7344994 ],\n",
       "       [0.7187014 ],\n",
       "       [0.7503944 ],\n",
       "       [0.7350999 ],\n",
       "       [0.7408374 ],\n",
       "       [0.7228214 ],\n",
       "       [0.77815133],\n",
       "       [0.70852184],\n",
       "       [0.7559069 ],\n",
       "       [0.75607574],\n",
       "       [0.7517736 ],\n",
       "       [0.7776381 ],\n",
       "       [0.75949186],\n",
       "       [0.7771783 ],\n",
       "       [0.76291513],\n",
       "       [0.7775373 ],\n",
       "       [0.7698484 ],\n",
       "       [0.7793927 ],\n",
       "       [0.76768714],\n",
       "       [0.7502447 ],\n",
       "       [0.71649337],\n",
       "       [0.7230745 ],\n",
       "       [0.73005116],\n",
       "       [0.6576404 ],\n",
       "       [0.733773  ],\n",
       "       [0.7304057 ],\n",
       "       [0.68210113],\n",
       "       [0.75119084],\n",
       "       [0.6545389 ],\n",
       "       [0.69724387],\n",
       "       [0.61265254],\n",
       "       [0.7085947 ],\n",
       "       [0.6091339 ],\n",
       "       [0.5781784 ],\n",
       "       [0.6696539 ],\n",
       "       [0.5360954 ],\n",
       "       [0.60855234],\n",
       "       [0.5707818 ],\n",
       "       [0.5960909 ],\n",
       "       [0.56319404],\n",
       "       [0.5592522 ],\n",
       "       [0.59690034],\n",
       "       [0.58231705],\n",
       "       [0.614549  ],\n",
       "       [0.57965934],\n",
       "       [0.5983631 ],\n",
       "       [0.6005752 ],\n",
       "       [0.5657461 ],\n",
       "       [0.5715439 ],\n",
       "       [0.55451846],\n",
       "       [0.6037571 ],\n",
       "       [0.60192543],\n",
       "       [0.6151885 ],\n",
       "       [0.6082626 ],\n",
       "       [0.6084549 ],\n",
       "       [0.63898057],\n",
       "       [0.6271108 ],\n",
       "       [0.62818116],\n",
       "       [0.63978195],\n",
       "       [0.6243288 ],\n",
       "       [0.5946677 ],\n",
       "       [0.6368925 ],\n",
       "       [0.63535506],\n",
       "       [0.64210457],\n",
       "       [0.6354637 ],\n",
       "       [0.61070955],\n",
       "       [0.70202327],\n",
       "       [0.67189   ],\n",
       "       [0.660108  ],\n",
       "       [0.6683572 ],\n",
       "       [0.68525606],\n",
       "       [0.675596  ],\n",
       "       [0.6983095 ],\n",
       "       [0.69862777],\n",
       "       [0.713362  ],\n",
       "       [0.6861665 ],\n",
       "       [0.6845789 ],\n",
       "       [0.69681287],\n",
       "       [0.7051139 ],\n",
       "       [0.71057075],\n",
       "       [0.70019543],\n",
       "       [0.73418945],\n",
       "       [0.71238697],\n",
       "       [0.72881764],\n",
       "       [0.72618484],\n",
       "       [0.72608936],\n",
       "       [0.7247682 ],\n",
       "       [0.73780125],\n",
       "       [0.7298099 ],\n",
       "       [0.7394482 ],\n",
       "       [0.7310974 ],\n",
       "       [0.7167748 ],\n",
       "       [0.74900395],\n",
       "       [0.7339286 ],\n",
       "       [0.74330276],\n",
       "       [0.7479585 ],\n",
       "       [0.69400984],\n",
       "       [0.74392086],\n",
       "       [0.7223129 ],\n",
       "       [0.752138  ],\n",
       "       [0.73653513],\n",
       "       [0.7299407 ],\n",
       "       [0.73028064],\n",
       "       [0.75305665],\n",
       "       [0.74607193],\n",
       "       [0.72255695],\n",
       "       [0.74936897],\n",
       "       [0.67005175],\n",
       "       [0.75545686],\n",
       "       [0.7218229 ],\n",
       "       [0.754338  ],\n",
       "       [0.75463456],\n",
       "       [0.77242506],\n",
       "       [0.74940234],\n",
       "       [0.774943  ],\n",
       "       [0.770323  ],\n",
       "       [0.78504705],\n",
       "       [0.7526397 ],\n",
       "       [0.785437  ],\n",
       "       [0.76287454],\n",
       "       [0.7750845 ],\n",
       "       [0.7716887 ],\n",
       "       [0.8110014 ],\n",
       "       [0.7704736 ],\n",
       "       [0.8052804 ],\n",
       "       [0.7464254 ],\n",
       "       [0.7878488 ],\n",
       "       [0.7843454 ],\n",
       "       [0.75685924],\n",
       "       [0.7994659 ],\n",
       "       [0.78232074],\n",
       "       [0.7452493 ],\n",
       "       [0.78029835],\n",
       "       [0.75306296],\n",
       "       [0.7747892 ],\n",
       "       [0.78353685],\n",
       "       [0.7657087 ],\n",
       "       [0.7779337 ],\n",
       "       [0.7586864 ],\n",
       "       [0.79656976],\n",
       "       [0.77503926],\n",
       "       [0.7748622 ],\n",
       "       [0.78984004],\n",
       "       [0.8101772 ],\n",
       "       [0.7776461 ],\n",
       "       [0.8271497 ],\n",
       "       [0.78993267],\n",
       "       [0.81990993],\n",
       "       [0.8180126 ],\n",
       "       [0.8425001 ],\n",
       "       [0.80557424],\n",
       "       [0.844685  ],\n",
       "       [0.8116116 ],\n",
       "       [0.8549559 ],\n",
       "       [0.8677262 ],\n",
       "       [0.77232885],\n",
       "       [0.83277434],\n",
       "       [0.7602408 ],\n",
       "       [0.8394236 ],\n",
       "       [0.75987023],\n",
       "       [0.80767524],\n",
       "       [0.7786014 ],\n",
       "       [0.8193135 ],\n",
       "       [0.7644276 ],\n",
       "       [0.7843716 ],\n",
       "       [0.74905264],\n",
       "       [0.759725  ],\n",
       "       [0.7855631 ],\n",
       "       [0.7133913 ],\n",
       "       [0.78210366],\n",
       "       [0.75442725],\n",
       "       [0.780198  ],\n",
       "       [0.7668174 ],\n",
       "       [0.7717775 ],\n",
       "       [0.7872823 ],\n",
       "       [0.7446049 ],\n",
       "       [0.79850674],\n",
       "       [0.73435855],\n",
       "       [0.7830751 ],\n",
       "       [0.773833  ],\n",
       "       [0.79273576],\n",
       "       [0.8172844 ],\n",
       "       [0.79116267],\n",
       "       [0.8032226 ],\n",
       "       [0.79197973]], dtype=float32)"
      ]
     },
     "execution_count": 94,
     "metadata": {},
     "output_type": "execute_result"
    }
   ],
   "source": [
    "y_pred"
   ]
  },
  {
   "cell_type": "code",
   "execution_count": 95,
   "metadata": {},
   "outputs": [],
   "source": [
    "y_pred=mms.inverse_transform(y_pred)"
   ]
  },
  {
   "cell_type": "code",
   "execution_count": 96,
   "metadata": {},
   "outputs": [
    {
     "data": {
      "text/html": [
       "<div>\n",
       "<style scoped>\n",
       "    .dataframe tbody tr th:only-of-type {\n",
       "        vertical-align: middle;\n",
       "    }\n",
       "\n",
       "    .dataframe tbody tr th {\n",
       "        vertical-align: top;\n",
       "    }\n",
       "\n",
       "    .dataframe thead th {\n",
       "        text-align: right;\n",
       "    }\n",
       "</style>\n",
       "<table border=\"1\" class=\"dataframe\">\n",
       "  <thead>\n",
       "    <tr style=\"text-align: right;\">\n",
       "      <th></th>\n",
       "      <th>0</th>\n",
       "    </tr>\n",
       "  </thead>\n",
       "  <tbody>\n",
       "    <tr>\n",
       "      <th>0</th>\n",
       "      <td>1055.731445</td>\n",
       "    </tr>\n",
       "    <tr>\n",
       "      <th>1</th>\n",
       "      <td>1065.213989</td>\n",
       "    </tr>\n",
       "    <tr>\n",
       "      <th>2</th>\n",
       "      <td>1071.854370</td>\n",
       "    </tr>\n",
       "    <tr>\n",
       "      <th>3</th>\n",
       "      <td>1051.442017</td>\n",
       "    </tr>\n",
       "    <tr>\n",
       "      <th>4</th>\n",
       "      <td>1049.710449</td>\n",
       "    </tr>\n",
       "    <tr>\n",
       "      <th>...</th>\n",
       "      <td>...</td>\n",
       "    </tr>\n",
       "    <tr>\n",
       "      <th>437</th>\n",
       "      <td>1419.429932</td>\n",
       "    </tr>\n",
       "    <tr>\n",
       "      <th>438</th>\n",
       "      <td>1454.720825</td>\n",
       "    </tr>\n",
       "    <tr>\n",
       "      <th>439</th>\n",
       "      <td>1417.168579</td>\n",
       "    </tr>\n",
       "    <tr>\n",
       "      <th>440</th>\n",
       "      <td>1434.505737</td>\n",
       "    </tr>\n",
       "    <tr>\n",
       "      <th>441</th>\n",
       "      <td>1418.343140</td>\n",
       "    </tr>\n",
       "  </tbody>\n",
       "</table>\n",
       "<p>442 rows × 1 columns</p>\n",
       "</div>"
      ],
      "text/plain": [
       "               0\n",
       "0    1055.731445\n",
       "1    1065.213989\n",
       "2    1071.854370\n",
       "3    1051.442017\n",
       "4    1049.710449\n",
       "..           ...\n",
       "437  1419.429932\n",
       "438  1454.720825\n",
       "439  1417.168579\n",
       "440  1434.505737\n",
       "441  1418.343140\n",
       "\n",
       "[442 rows x 1 columns]"
      ]
     },
     "execution_count": 96,
     "metadata": {},
     "output_type": "execute_result"
    }
   ],
   "source": [
    "pd.DataFrame(y_pred)"
   ]
  },
  {
   "cell_type": "markdown",
   "metadata": {},
   "source": [
    "## Plot the Data"
   ]
  },
  {
   "cell_type": "code",
   "execution_count": 97,
   "metadata": {
    "scrolled": true
   },
   "outputs": [
    {
     "data": {
      "image/png": "[encoded data removed]",
      "text/plain": [
       "<Figure size 1080x360 with 1 Axes>"
      ]
     },
     "metadata": {},
     "output_type": "display_data"
    }
   ],
   "source": [
    "# Visualising the results\n",
    "plt.figure(figsize=(15,5))\n",
    "plt.plot(y_test, color = 'red', label = 'Actual  Stock Price',ls='--')\n",
    "plt.plot(y_pred, color = 'limegreen', label = 'Predicted  Stock Price',ls='-')\n",
    "plt.title('Stock Market Projection')\n",
    "plt.xlabel('Time in days')\n",
    "plt.ylabel('Price in USD ($)')\n",
    "plt.legend()\n",
    "plt.show()"
   ]
  },
  {
   "cell_type": "markdown",
   "metadata": {},
   "source": [
    "## Plot the whole Data Training, Testing and Prediction Data together"
   ]
  },
  {
   "cell_type": "code",
   "execution_count": 98,
   "metadata": {},
   "outputs": [
    {
     "name": "stderr",
     "output_type": "stream",
     "text": [
      "/home/god/anaconda3/lib/python3.7/site-packages/ipykernel_launcher.py:3: SettingWithCopyWarning: \n",
      "A value is trying to be set on a copy of a slice from a DataFrame.\n",
      "Try using .loc[row_indexer,col_indexer] = value instead\n",
      "\n",
      "See the caveats in the documentation: http://pandas.pydata.org/pandas-docs/stable/user_guide/indexing.html#returning-a-view-versus-a-copy\n",
      "  This is separate from the ipykernel package so we can avoid doing imports until\n"
     ]
    }
   ],
   "source": [
    "train=close[:training_data_length]\n",
    "test=close[training_data_length:]\n",
    "test['pred']=y_pred"
   ]
  },
  {
   "cell_type": "code",
   "execution_count": 99,
   "metadata": {},
   "outputs": [
    {
     "data": {
      "image/png": "[encoded data removed]",
      "text/plain": [
       "<Figure size 1080x360 with 1 Axes>"
      ]
     },
     "metadata": {},
     "output_type": "display_data"
    }
   ],
   "source": [
    "plt.figure(figsize=(15,5))\n",
    "plt.plot(train['Close'], color = 'tab:blue', label = 'Training Stock Data',ls='-')\n",
    "plt.plot(test['Close'], color = 'tab:red', label = 'Testing Stock Data',ls='-')\n",
    "plt.plot(test['pred'], color = 'tab:green', label = 'Predicted Stock Data',ls='dashdot')\n",
    "plt.title('Stock Price')\n",
    "plt.xlabel('Date')\n",
    "plt.ylabel('Stock Price in US $')\n",
    "plt.legend()\n",
    "plt.show()"
   ]
  },
  {
   "cell_type": "code",
   "execution_count": null,
   "metadata": {},
   "outputs": [],
   "source": []
  },
  {
   "cell_type": "code",
   "execution_count": null,
   "metadata": {},
   "outputs": [],
   "source": []
  }
 ],
 "metadata": {
  "kernelspec": {
   "display_name": "Python 3",
   "language": "python",
   "name": "python3"
  },
  "language_info": {
   "codemirror_mode": {
    "name": "ipython",
    "version": 3
   },
   "file_extension": ".py",
   "mimetype": "text/x-python",
   "name": "python",
   "nbconvert_exporter": "python",
   "pygments_lexer": "ipython3",
   "version": "3.7.6"
  }
 },
 "nbformat": 4,
 "nbformat_minor": 4
}
